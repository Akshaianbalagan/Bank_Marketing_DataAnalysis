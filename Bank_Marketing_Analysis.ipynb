{
  "nbformat": 4,
  "nbformat_minor": 0,
  "metadata": {
    "colab": {
      "name": "Bank_Marketing_Analysis.ipynb",
      "provenance": [],
      "collapsed_sections": []
    },
    "language_info": {
      "mimetype": "text/x-python",
      "nbconvert_exporter": "python",
      "version": "3.5.5",
      "name": "python",
      "file_extension": ".py",
      "pygments_lexer": "ipython3",
      "codemirror_mode": {
        "version": 3,
        "name": "ipython"
      }
    },
    "kernelspec": {
      "display_name": "Python 3.5",
      "name": "python3",
      "language": "python"
    }
  },
  "cells": [
    {
      "cell_type": "markdown",
      "metadata": {
        "id": "_th7e2nu0At7"
      },
      "source": [
        "\n",
        "Bank Marketing Data Analytics"
      ]
    },
    {
      "cell_type": "markdown",
      "metadata": {
        "id": "eASNvREtBU9G"
      },
      "source": [
        "# 1.Import Spark"
      ]
    },
    {
      "cell_type": "code",
      "metadata": {
        "id": "duCJfMrnGu00",
        "cellView": "code",
        "colab": {
          "base_uri": "https://localhost:8080/",
          "height": 153
        },
        "outputId": "7bb1884a-a9bf-4177-e3c0-6899e3e33c94"
      },
      "source": [
        "!pip install wget\n",
        "!apt-get install openjdk-8-jdk-headless -qq > /dev/null\n",
        "!wget -q https://archive.apache.org/dist/spark/spark-2.4.0/spark-2.4.0-bin-hadoop2.7.tgz\n",
        "!tar xf spark-2.4.0-bin-hadoop2.7.tgz\n",
        "!pip install -q findspark\n",
        "import os\n",
        "os.environ[\"JAVA_HOME\"] = \"/usr/lib/jvm/java-8-openjdk-amd64\"\n",
        "os.environ[\"SPARK_HOME\"] = \"/content/spark-2.4.0-bin-hadoop2.7\""
      ],
      "execution_count": null,
      "outputs": [
        {
          "output_type": "stream",
          "text": [
            "Collecting wget\n",
            "  Downloading https://files.pythonhosted.org/packages/47/6a/62e288da7bcda82b935ff0c6cfe542970f04e29c756b0e147251b2fb251f/wget-3.2.zip\n",
            "Building wheels for collected packages: wget\n",
            "  Building wheel for wget (setup.py) ... \u001b[?25l\u001b[?25hdone\n",
            "  Stored in directory: /root/.cache/pip/wheels/40/15/30/7d8f7cea2902b4db79e3fea550d7d7b85ecb27ef992b618f3f\n",
            "Successfully built wget\n",
            "Installing collected packages: wget\n",
            "Successfully installed wget-3.2\n"
          ],
          "name": "stdout"
        }
      ]
    },
    {
      "cell_type": "code",
      "metadata": {
        "id": "aGOo805LA-fM"
      },
      "source": [
        "# import spark.sql packages\n",
        "import findspark\n",
        "findspark.init()\n",
        "from pyspark.sql import SparkSession "
      ],
      "execution_count": null,
      "outputs": []
    },
    {
      "cell_type": "markdown",
      "metadata": {
        "id": "K7bEtO_fBZmE"
      },
      "source": [
        "# 2.Read and check data"
      ]
    },
    {
      "cell_type": "code",
      "metadata": {
        "id": "EADPspOv0Auh"
      },
      "source": [
        "import wget\n",
        "link_to_data = 'https://github.com/tulip-lab/sit742/raw/master/Assessment/2019/data/bank.csv'\n",
        "DataSet = wget.download(link_to_data)"
      ],
      "execution_count": null,
      "outputs": []
    },
    {
      "cell_type": "code",
      "metadata": {
        "id": "tiM-PiiR0Aup",
        "colab": {
          "base_uri": "https://localhost:8080/",
          "height": 34
        },
        "outputId": "49f8a8f4-2158-4570-d900-9256e6b19540"
      },
      "source": [
        "!ls"
      ],
      "execution_count": null,
      "outputs": [
        {
          "output_type": "stream",
          "text": [
            "bank.csv  sample_data  spark-2.4.0-bin-hadoop2.7  spark-2.4.0-bin-hadoop2.7.tgz\n"
          ],
          "name": "stdout"
        }
      ]
    },
    {
      "cell_type": "code",
      "metadata": {
        "id": "FQ8Ts9eZBA-M",
        "colab": {
          "base_uri": "https://localhost:8080/",
          "height": 527
        },
        "outputId": "fa527a0e-d575-4da0-d3de-330d6c7385ae"
      },
      "source": [
        "# Import the 'bank.csv' as a Spark dataframe and name it as df\n",
        "spark = SparkSession.builder.appName('ml-bank').getOrCreate()\n",
        "df = spark.read.csv('bank.csv', header = True, inferSchema = True) \n",
        "df.printSchema() \n",
        "df.show(5)"
      ],
      "execution_count": null,
      "outputs": [
        {
          "output_type": "stream",
          "text": [
            "root\n",
            " |-- age: integer (nullable = true)\n",
            " |-- job: string (nullable = true)\n",
            " |-- marital: string (nullable = true)\n",
            " |-- education: string (nullable = true)\n",
            " |-- default: string (nullable = true)\n",
            " |-- balance: integer (nullable = true)\n",
            " |-- housing: string (nullable = true)\n",
            " |-- loan: string (nullable = true)\n",
            " |-- contact: string (nullable = true)\n",
            " |-- day: integer (nullable = true)\n",
            " |-- month: string (nullable = true)\n",
            " |-- duration: integer (nullable = true)\n",
            " |-- campaign: integer (nullable = true)\n",
            " |-- pdays: integer (nullable = true)\n",
            " |-- previous: integer (nullable = true)\n",
            " |-- poutcome: string (nullable = true)\n",
            " |-- deposit: string (nullable = true)\n",
            "\n",
            "+---+----------+-------+---------+-------+-------+-------+----+-------+---+-----+--------+--------+-----+--------+--------+-------+\n",
            "|age|       job|marital|education|default|balance|housing|loan|contact|day|month|duration|campaign|pdays|previous|poutcome|deposit|\n",
            "+---+----------+-------+---------+-------+-------+-------+----+-------+---+-----+--------+--------+-----+--------+--------+-------+\n",
            "| 59|    admin.|married|secondary|     no|   2343|    yes|  no|unknown|  5|  may|    1042|       1|   -1|       0| unknown|    yes|\n",
            "| 56|    admin.|married|secondary|     no|     45|     no|  no|unknown|  5|  may|    1467|       1|   -1|       0| unknown|    yes|\n",
            "| 41|technician|married|secondary|     no|   1270|    yes|  no|unknown|  5|  may|    1389|       1|   -1|       0| unknown|    yes|\n",
            "| 55|  services|married|secondary|     no|   2476|    yes|  no|unknown|  5|  may|     579|       1|   -1|       0| unknown|    yes|\n",
            "| 54|    admin.|married| tertiary|     no|    184|     no|  no|unknown|  5|  may|     673|       2|   -1|       0| unknown|    yes|\n",
            "+---+----------+-------+---------+-------+-------+-------+----+-------+---+-----+--------+--------+-----+--------+--------+-------+\n",
            "only showing top 5 rows\n",
            "\n"
          ],
          "name": "stdout"
        }
      ]
    },
    {
      "cell_type": "code",
      "metadata": {
        "id": "28WOq37e9dSd",
        "colab": {
          "base_uri": "https://localhost:8080/",
          "height": 204
        },
        "outputId": "74db80a9-68f9-42e8-df75-b4e9a02c6b56"
      },
      "source": [
        "# Explore data distribution\n",
        "import pandas as pd \n",
        "import matplotlib.pyplot as plt\n",
        "pd.DataFrame(df.head(20), columns =df.columns )\n",
        "#Summary Stats for Numeric variables\n",
        "num_var = [t[0] for t in df.dtypes if t[1] =='int']\n",
        "df.select(num_var).describe().toPandas()\n"
      ],
      "execution_count": null,
      "outputs": [
        {
          "output_type": "execute_result",
          "data": {
            "text/html": [
              "<div>\n",
              "<style scoped>\n",
              "    .dataframe tbody tr th:only-of-type {\n",
              "        vertical-align: middle;\n",
              "    }\n",
              "\n",
              "    .dataframe tbody tr th {\n",
              "        vertical-align: top;\n",
              "    }\n",
              "\n",
              "    .dataframe thead th {\n",
              "        text-align: right;\n",
              "    }\n",
              "</style>\n",
              "<table border=\"1\" class=\"dataframe\">\n",
              "  <thead>\n",
              "    <tr style=\"text-align: right;\">\n",
              "      <th></th>\n",
              "      <th>summary</th>\n",
              "      <th>age</th>\n",
              "      <th>balance</th>\n",
              "      <th>day</th>\n",
              "      <th>duration</th>\n",
              "      <th>campaign</th>\n",
              "      <th>pdays</th>\n",
              "      <th>previous</th>\n",
              "    </tr>\n",
              "  </thead>\n",
              "  <tbody>\n",
              "    <tr>\n",
              "      <th>0</th>\n",
              "      <td>count</td>\n",
              "      <td>11162</td>\n",
              "      <td>11162</td>\n",
              "      <td>11162</td>\n",
              "      <td>11162</td>\n",
              "      <td>11162</td>\n",
              "      <td>11162</td>\n",
              "      <td>11162</td>\n",
              "    </tr>\n",
              "    <tr>\n",
              "      <th>1</th>\n",
              "      <td>mean</td>\n",
              "      <td>41.231947679627304</td>\n",
              "      <td>1528.5385235620856</td>\n",
              "      <td>15.658036194230425</td>\n",
              "      <td>371.99381831213043</td>\n",
              "      <td>2.508421429851281</td>\n",
              "      <td>51.33040673714388</td>\n",
              "      <td>0.8325568894463358</td>\n",
              "    </tr>\n",
              "    <tr>\n",
              "      <th>2</th>\n",
              "      <td>stddev</td>\n",
              "      <td>11.913369192215518</td>\n",
              "      <td>3225.413325946149</td>\n",
              "      <td>8.420739541006462</td>\n",
              "      <td>347.12838571630687</td>\n",
              "      <td>2.7220771816614824</td>\n",
              "      <td>108.75828197197717</td>\n",
              "      <td>2.292007218670508</td>\n",
              "    </tr>\n",
              "    <tr>\n",
              "      <th>3</th>\n",
              "      <td>min</td>\n",
              "      <td>18</td>\n",
              "      <td>-6847</td>\n",
              "      <td>1</td>\n",
              "      <td>2</td>\n",
              "      <td>1</td>\n",
              "      <td>-1</td>\n",
              "      <td>0</td>\n",
              "    </tr>\n",
              "    <tr>\n",
              "      <th>4</th>\n",
              "      <td>max</td>\n",
              "      <td>95</td>\n",
              "      <td>81204</td>\n",
              "      <td>31</td>\n",
              "      <td>3881</td>\n",
              "      <td>63</td>\n",
              "      <td>854</td>\n",
              "      <td>58</td>\n",
              "    </tr>\n",
              "  </tbody>\n",
              "</table>\n",
              "</div>"
            ],
            "text/plain": [
              "  summary                 age  ...               pdays            previous\n",
              "0   count               11162  ...               11162               11162\n",
              "1    mean  41.231947679627304  ...   51.33040673714388  0.8325568894463358\n",
              "2  stddev  11.913369192215518  ...  108.75828197197717   2.292007218670508\n",
              "3     min                  18  ...                  -1                   0\n",
              "4     max                  95  ...                 854                  58\n",
              "\n",
              "[5 rows x 8 columns]"
            ]
          },
          "metadata": {
            "tags": []
          },
          "execution_count": 27
        }
      ]
    },
    {
      "cell_type": "code",
      "metadata": {
        "id": "XJGWVc0yB0UA",
        "colab": {
          "base_uri": "https://localhost:8080/",
          "height": 1107
        },
        "outputId": "150bce6a-f389-409a-b4f7-376921f2c9e2"
      },
      "source": [
        "\n",
        "# Display the data type and null values by using printschema function\n",
        "df.printSchema()\n",
        "# Display first 5 data obervations for all columns\n",
        "pd.DataFrame(df.head(5), columns=df.columns).transpose()\n",
        "# Display summary statistics for numeric variables\n",
        "numeric_features = [t[0] for t in df.dtypes if t[1] == 'int' ]\n",
        "df.select(numeric_features).describe().toPandas().transpose()\n",
        "# Plotting histogram for numeric variables\n",
        "fig = plt.figure()\n",
        "plt.subplots_adjust(left = 0.125, right = 0.9, bottom = 2.5, top = 5, wspace = 0.2, hspace = 0.2)\n",
        "# Plotting histogram for age \n",
        "plt.subplot(3, 2, 1)\n",
        "bins, counts = df.select(\"age\").rdd.flatMap(lambda x: x).histogram(20)\n",
        "plt.hist(bins[:-1], bins=bins, weights=counts)\n",
        "plt.title(\"age\")\n",
        "# Plotting histogram for balance\n",
        "plt.subplot(3, 2, 2)\n",
        "bins, counts = df.select(\"balance\").rdd.flatMap(lambda x: x).histogram(20)\n",
        "plt.hist(bins[:-1], bins=bins, weights=counts)\n",
        "plt.title(\"balance\")\n",
        "# Plotting histogram for duration\n",
        "plt.subplot(3, 2, 3)\n",
        "bins, counts = df.select(\"duration\").rdd.flatMap(lambda x: x).histogram(20)\n",
        "plt.hist(bins[:-1], bins=bins, weights=counts)\n",
        "plt.title(\"duration\")\n",
        "# Plotting histogram for campaign\n",
        "plt.subplot(3, 2, 4)\n",
        "bins, counts = df.select(\"campaign\").rdd.flatMap(lambda x: x).histogram(20)\n",
        "plt.hist(bins[:-1], bins=bins, weights=counts)\n",
        "plt.title(\"campaign\")\n",
        "# Plotting histogram for pdays\n",
        "plt.subplot(3, 2, 5)\n",
        "bins, counts = df.select(\"pdays\").rdd.flatMap(lambda x: x).histogram(20)\n",
        "plt.hist(bins[:-1], bins=bins, weights=counts)\n",
        "plt.title(\"pdays\")\n",
        "# Plotting histogram for previous\n",
        "plt.subplot(3, 2, 6)\n",
        "bins, counts = df.select(\"previous\").rdd.flatMap(lambda x: x).histogram(20)\n",
        "plt.hist(bins[:-1], bins=bins, weights=counts)\n",
        "plt.title(\"previous\")\n",
        "# Display the graph\n",
        "plt.show()\n",
        "\n",
        "\n",
        "\n"
      ],
      "execution_count": null,
      "outputs": [
        {
          "output_type": "stream",
          "text": [
            "root\n",
            " |-- age: integer (nullable = true)\n",
            " |-- job: string (nullable = true)\n",
            " |-- marital: string (nullable = true)\n",
            " |-- education: string (nullable = true)\n",
            " |-- default: string (nullable = true)\n",
            " |-- balance: integer (nullable = true)\n",
            " |-- housing: string (nullable = true)\n",
            " |-- loan: string (nullable = true)\n",
            " |-- contact: string (nullable = true)\n",
            " |-- day: integer (nullable = true)\n",
            " |-- month: string (nullable = true)\n",
            " |-- duration: integer (nullable = true)\n",
            " |-- campaign: integer (nullable = true)\n",
            " |-- pdays: integer (nullable = true)\n",
            " |-- previous: integer (nullable = true)\n",
            " |-- poutcome: string (nullable = true)\n",
            " |-- deposit: string (nullable = true)\n",
            "\n"
          ],
          "name": "stdout"
        },
        {
          "output_type": "display_data",
          "data": {
            "image/png": "[encoded data removed]",
            "text/plain": [
              "<Figure size 432x288 with 6 Axes>"
            ]
          },
          "metadata": {
            "tags": []
          }
        }
      ]
    },
    {
      "cell_type": "markdown",
      "metadata": {
        "id": "wKQMhrtFChHa"
      },
      "source": [
        "# 3.Select features"
      ]
    },
    {
      "cell_type": "code",
      "metadata": {
        "id": "VU5xMqN_RyM2",
        "colab": {
          "base_uri": "https://localhost:8080/",
          "height": 476
        },
        "outputId": "e59cbc06-b750-4aa5-eef3-e0e08c6736bb"
      },
      "source": [
        "# Select features ('age', 'job', 'marital', 'education', 'default', 'balance', 'housing', 'loan', 'campaign', 'pdays', 'previous', 'poutcome', 'deposit') as df2\n",
        "df2=df.select('age','job','marital','education','default','balance','housing','loan','campaign','pdays','previous','poutcome','deposit')\n",
        "print(df2.show())\n",
        "\n"
      ],
      "execution_count": null,
      "outputs": [
        {
          "output_type": "stream",
          "text": [
            "+---+-----------+--------+---------+-------+-------+-------+----+--------+-----+--------+--------+-------+\n",
            "|age|        job| marital|education|default|balance|housing|loan|campaign|pdays|previous|poutcome|deposit|\n",
            "+---+-----------+--------+---------+-------+-------+-------+----+--------+-----+--------+--------+-------+\n",
            "| 59|     admin.| married|secondary|     no|   2343|    yes|  no|       1|   -1|       0| unknown|    yes|\n",
            "| 56|     admin.| married|secondary|     no|     45|     no|  no|       1|   -1|       0| unknown|    yes|\n",
            "| 41| technician| married|secondary|     no|   1270|    yes|  no|       1|   -1|       0| unknown|    yes|\n",
            "| 55|   services| married|secondary|     no|   2476|    yes|  no|       1|   -1|       0| unknown|    yes|\n",
            "| 54|     admin.| married| tertiary|     no|    184|     no|  no|       2|   -1|       0| unknown|    yes|\n",
            "| 42| management|  single| tertiary|     no|      0|    yes| yes|       2|   -1|       0| unknown|    yes|\n",
            "| 56| management| married| tertiary|     no|    830|    yes| yes|       1|   -1|       0| unknown|    yes|\n",
            "| 60|    retired|divorced|secondary|     no|    545|    yes|  no|       1|   -1|       0| unknown|    yes|\n",
            "| 37| technician| married|secondary|     no|      1|    yes|  no|       1|   -1|       0| unknown|    yes|\n",
            "| 28|   services|  single|secondary|     no|   5090|    yes|  no|       3|   -1|       0| unknown|    yes|\n",
            "| 38|     admin.|  single|secondary|     no|    100|    yes|  no|       1|   -1|       0| unknown|    yes|\n",
            "| 30|blue-collar| married|secondary|     no|    309|    yes|  no|       2|   -1|       0| unknown|    yes|\n",
            "| 29| management| married| tertiary|     no|    199|    yes| yes|       4|   -1|       0| unknown|    yes|\n",
            "| 46|blue-collar|  single| tertiary|     no|    460|    yes|  no|       2|   -1|       0| unknown|    yes|\n",
            "| 31| technician|  single| tertiary|     no|    703|    yes|  no|       2|   -1|       0| unknown|    yes|\n",
            "| 35| management|divorced| tertiary|     no|   3837|    yes|  no|       1|   -1|       0| unknown|    yes|\n",
            "| 32|blue-collar|  single|  primary|     no|    611|    yes|  no|       3|   -1|       0| unknown|    yes|\n",
            "| 49|   services| married|secondary|     no|     -8|    yes|  no|       1|   -1|       0| unknown|    yes|\n",
            "| 41|     admin.| married|secondary|     no|     55|    yes|  no|       2|   -1|       0| unknown|    yes|\n",
            "| 49|     admin.|divorced|secondary|     no|    168|    yes| yes|       1|   -1|       0| unknown|    yes|\n",
            "+---+-----------+--------+---------+-------+-------+-------+----+--------+-----+--------+--------+-------+\n",
            "only showing top 20 rows\n",
            "\n",
            "None\n"
          ],
          "name": "stdout"
        }
      ]
    },
    {
      "cell_type": "code",
      "metadata": {
        "id": "vwF5sqRYa_eI",
        "colab": {
          "base_uri": "https://localhost:8080/",
          "height": 476
        },
        "outputId": "cfce2818-c18f-436a-c836-f2b2348f14f7"
      },
      "source": [
        "#Remove invalid rows/records using spark.sql \n",
        "df2_new= df.filter((df['contact']!=\"unknown\")).filter((df['poutcome'] != 'other')) \\\n",
        ".filter((df['poutcome'] != 'unknown')).filter((df['education'] != 'unknown')) \\\n",
        ".filter((df['job'] != 'unknown')).filter((df['marital'] != 'unknown')) \\\n",
        ".filter((df['default'] != 'unknown')) \n",
        "# Display the output\n",
        "df2_new.show(20)\n",
        "type(df2)\n"
      ],
      "execution_count": null,
      "outputs": [
        {
          "output_type": "stream",
          "text": [
            "+---+------------+--------+---------+-------+-------+-------+----+---------+---+-----+--------+--------+-----+--------+--------+-------+\n",
            "|age|         job| marital|education|default|balance|housing|loan|  contact|day|month|duration|campaign|pdays|previous|poutcome|deposit|\n",
            "+---+------------+--------+---------+-------+-------+-------+----+---------+---+-----+--------+--------+-----+--------+--------+-------+\n",
            "| 33|    services| married|secondary|     no|   3444|    yes|  no|telephone| 21|  oct|     144|       1|   91|       4| failure|    yes|\n",
            "| 53|     retired| married| tertiary|     no|   2269|     no|  no| cellular| 17|  nov|    1091|       2|  150|       1| success|    yes|\n",
            "| 37|  technician| married|secondary|     no|   5115|    yes|  no| cellular| 17|  nov|    1210|       2|  171|       4| failure|    yes|\n",
            "| 45|entrepreneur| married|secondary|     no|    781|     no| yes| cellular| 17|  nov|     652|       2|  126|       2| failure|    yes|\n",
            "| 46|  unemployed|divorced|secondary|     no|   3354|    yes|  no| cellular| 19|  nov|     522|       1|  174|       1| success|    yes|\n",
            "| 40|  management| married| tertiary|     no|   3352|    yes|  no| cellular| 19|  nov|     639|       2|   27|       1| success|    yes|\n",
            "| 32|  technician| married| tertiary|     no|   4654|    yes| yes| cellular| 20|  nov|     276|       1|  128|       2| failure|    yes|\n",
            "| 30| blue-collar| married|secondary|     no|    501|    yes| yes| cellular| 20|  nov|     994|       1|  177|       1| failure|    yes|\n",
            "| 46|  technician| married| tertiary|     no|      0|     no|  no| cellular| 20|  nov|     531|       1|  167|       1| failure|    yes|\n",
            "| 38|entrepreneur| married| tertiary|     no|   1110|    yes|  no| cellular| 20|  nov|     888|       2|  183|       2| failure|    yes|\n",
            "| 32|    services| married|secondary|     no|    983|    yes|  no| cellular| 20|  nov|     500|       2|  133|       1| failure|    yes|\n",
            "| 31|  unemployed| married|secondary|     no|    314|    yes|  no| cellular| 20|  nov|    1341|       3|  178|       7| failure|    yes|\n",
            "| 50| blue-collar| married|  primary|     no|  12519|    yes|  no| cellular| 21|  nov|     615|       3|   34|       1| failure|    yes|\n",
            "| 47|  technician| married|secondary|     no|      0|     no|  no| cellular| 21|  nov|     591|       1|   10|       1| failure|    yes|\n",
            "| 59|  management| married| tertiary|     no|   7049|     no|  no| cellular| 21|  nov|     530|       1|  163|       2| failure|    yes|\n",
            "| 31|  management| married|secondary|     no|   8629|    yes|  no| cellular| 21|  nov|     957|       1|  184|       2| failure|    yes|\n",
            "| 53| blue-collar| married|secondary|     no|   1777|    yes|  no| cellular| 21|  nov|     796|       5|  154|       1| failure|    yes|\n",
            "| 40|  technician|  single| tertiary|     no|   1646|    yes|  no| cellular|  2|  feb|     215|       1|  242|       2| failure|    yes|\n",
            "| 44|  unemployed| married|secondary|     no|      0|    yes|  no| cellular|  2|  feb|     699|       1|  272|       1| failure|    yes|\n",
            "| 43|      admin.|  single|secondary|     no|   -247|    yes| yes| cellular|  2|  feb|     751|       2|   76|       4| failure|    yes|\n",
            "+---+------------+--------+---------+-------+-------+-------+----+---------+---+-----+--------+--------+-----+--------+--------+-------+\n",
            "only showing top 20 rows\n",
            "\n"
          ],
          "name": "stdout"
        },
        {
          "output_type": "execute_result",
          "data": {
            "text/plain": [
              "pyspark.sql.dataframe.DataFrame"
            ]
          },
          "metadata": {
            "tags": []
          },
          "execution_count": 9
        }
      ]
    },
    {
      "cell_type": "code",
      "metadata": {
        "id": "A_T8qvxzR-oI",
        "colab": {
          "base_uri": "https://localhost:8080/",
          "height": 479
        },
        "outputId": "06ab80e7-63dc-496c-d999-33f7d6dd6bdd"
      },
      "source": [
        "#Covert categorical features to metric features using One hot encoding\n",
        "from pyspark.ml import Pipeline\n",
        "from pyspark.ml.feature import StringIndexer, OneHotEncoder, VectorAssembler\n",
        "categorical_columns= ['job', 'marital', 'education', 'default','housing', 'loan', 'poutcome']\n",
        "index = [\n",
        "    StringIndexer(inputCol=col, outputCol=\"{0}_i_val\".format(col))\n",
        "    for col in categorical_columns\n",
        "]\n",
        "\n",
        "\n",
        "# using oneHotEncoder function\n",
        "encoders = [OneHotEncoder(dropLast=False,inputCol=i.getOutputCol(),\n",
        "            outputCol=\"{0}_res\".format(i.getOutputCol())) \n",
        "    for i in index\n",
        "]\n",
        "\n",
        "# Using VectorAssembler function\n",
        "assembler = VectorAssembler(inputCols=[encoder.getOutputCol() for encoder in encoders],outputCol=\"features\")\n",
        "a =  StringIndexer(inputCol = 'deposit', outputCol = 'deposit_i_val')\n",
        "index = index + [a]\n",
        "\n",
        "pipe = Pipeline(stages=index + encoders+[assembler])\n",
        "model=pipe.fit(df2_new)\n",
        "df2_new = model.transform(df2_new)\n",
        "\n",
        "# Display output\n",
        "df2_new.show()"
      ],
      "execution_count": null,
      "outputs": [
        {
          "output_type": "stream",
          "text": [
            "+---+------------+--------+---------+-------+-------+-------+----+---------+---+-----+--------+--------+-----+--------+--------+-------+---------+-------------+---------------+-------------+-------------+----------+--------------+-------------+--------------+-----------------+-------------------+-----------------+-----------------+--------------+------------------+--------------------+\n",
            "|age|         job| marital|education|default|balance|housing|loan|  contact|day|month|duration|campaign|pdays|previous|poutcome|deposit|job_i_val|marital_i_val|education_i_val|default_i_val|housing_i_val|loan_i_val|poutcome_i_val|deposit_i_val| job_i_val_res|marital_i_val_res|education_i_val_res|default_i_val_res|housing_i_val_res|loan_i_val_res|poutcome_i_val_res|            features|\n",
            "+---+------------+--------+---------+-------+-------+-------+----+---------+---+-----+--------+--------+-----+--------+--------+-------+---------+-------------+---------------+-------------+-------------+----------+--------------+-------------+--------------+-----------------+-------------------+-----------------+-----------------+--------------+------------------+--------------------+\n",
            "| 33|    services| married|secondary|     no|   3444|    yes|  no|telephone| 21|  oct|     144|       1|   91|       4| failure|    yes|      5.0|          0.0|            0.0|          0.0|          1.0|       0.0|           0.0|          0.0|(11,[5],[1.0])|    (3,[0],[1.0])|      (3,[0],[1.0])|    (2,[0],[1.0])|    (2,[1],[1.0])| (2,[0],[1.0])|     (2,[0],[1.0])|(25,[5,11,14,17,2...|\n",
            "| 53|     retired| married| tertiary|     no|   2269|     no|  no| cellular| 17|  nov|    1091|       2|  150|       1| success|    yes|      4.0|          0.0|            1.0|          0.0|          0.0|       0.0|           1.0|          0.0|(11,[4],[1.0])|    (3,[0],[1.0])|      (3,[1],[1.0])|    (2,[0],[1.0])|    (2,[0],[1.0])| (2,[0],[1.0])|     (2,[1],[1.0])|(25,[4,11,15,17,1...|\n",
            "| 37|  technician| married|secondary|     no|   5115|    yes|  no| cellular| 17|  nov|    1210|       2|  171|       4| failure|    yes|      1.0|          0.0|            0.0|          0.0|          1.0|       0.0|           0.0|          0.0|(11,[1],[1.0])|    (3,[0],[1.0])|      (3,[0],[1.0])|    (2,[0],[1.0])|    (2,[1],[1.0])| (2,[0],[1.0])|     (2,[0],[1.0])|(25,[1,11,14,17,2...|\n",
            "| 45|entrepreneur| married|secondary|     no|    781|     no| yes| cellular| 17|  nov|     652|       2|  126|       2| failure|    yes|      9.0|          0.0|            0.0|          0.0|          0.0|       1.0|           0.0|          0.0|(11,[9],[1.0])|    (3,[0],[1.0])|      (3,[0],[1.0])|    (2,[0],[1.0])|    (2,[0],[1.0])| (2,[1],[1.0])|     (2,[0],[1.0])|(25,[9,11,14,17,1...|\n",
            "| 46|  unemployed|divorced|secondary|     no|   3354|    yes|  no| cellular| 19|  nov|     522|       1|  174|       1| success|    yes|      7.0|          2.0|            0.0|          0.0|          1.0|       0.0|           1.0|          0.0|(11,[7],[1.0])|    (3,[2],[1.0])|      (3,[0],[1.0])|    (2,[0],[1.0])|    (2,[1],[1.0])| (2,[0],[1.0])|     (2,[1],[1.0])|(25,[7,13,14,17,2...|\n",
            "| 40|  management| married| tertiary|     no|   3352|    yes|  no| cellular| 19|  nov|     639|       2|   27|       1| success|    yes|      0.0|          0.0|            1.0|          0.0|          1.0|       0.0|           1.0|          0.0|(11,[0],[1.0])|    (3,[0],[1.0])|      (3,[1],[1.0])|    (2,[0],[1.0])|    (2,[1],[1.0])| (2,[0],[1.0])|     (2,[1],[1.0])|(25,[0,11,15,17,2...|\n",
            "| 32|  technician| married| tertiary|     no|   4654|    yes| yes| cellular| 20|  nov|     276|       1|  128|       2| failure|    yes|      1.0|          0.0|            1.0|          0.0|          1.0|       1.0|           0.0|          0.0|(11,[1],[1.0])|    (3,[0],[1.0])|      (3,[1],[1.0])|    (2,[0],[1.0])|    (2,[1],[1.0])| (2,[1],[1.0])|     (2,[0],[1.0])|(25,[1,11,15,17,2...|\n",
            "| 30| blue-collar| married|secondary|     no|    501|    yes| yes| cellular| 20|  nov|     994|       1|  177|       1| failure|    yes|      3.0|          0.0|            0.0|          0.0|          1.0|       1.0|           0.0|          0.0|(11,[3],[1.0])|    (3,[0],[1.0])|      (3,[0],[1.0])|    (2,[0],[1.0])|    (2,[1],[1.0])| (2,[1],[1.0])|     (2,[0],[1.0])|(25,[3,11,14,17,2...|\n",
            "| 46|  technician| married| tertiary|     no|      0|     no|  no| cellular| 20|  nov|     531|       1|  167|       1| failure|    yes|      1.0|          0.0|            1.0|          0.0|          0.0|       0.0|           0.0|          0.0|(11,[1],[1.0])|    (3,[0],[1.0])|      (3,[1],[1.0])|    (2,[0],[1.0])|    (2,[0],[1.0])| (2,[0],[1.0])|     (2,[0],[1.0])|(25,[1,11,15,17,1...|\n",
            "| 38|entrepreneur| married| tertiary|     no|   1110|    yes|  no| cellular| 20|  nov|     888|       2|  183|       2| failure|    yes|      9.0|          0.0|            1.0|          0.0|          1.0|       0.0|           0.0|          0.0|(11,[9],[1.0])|    (3,[0],[1.0])|      (3,[1],[1.0])|    (2,[0],[1.0])|    (2,[1],[1.0])| (2,[0],[1.0])|     (2,[0],[1.0])|(25,[9,11,15,17,2...|\n",
            "| 32|    services| married|secondary|     no|    983|    yes|  no| cellular| 20|  nov|     500|       2|  133|       1| failure|    yes|      5.0|          0.0|            0.0|          0.0|          1.0|       0.0|           0.0|          0.0|(11,[5],[1.0])|    (3,[0],[1.0])|      (3,[0],[1.0])|    (2,[0],[1.0])|    (2,[1],[1.0])| (2,[0],[1.0])|     (2,[0],[1.0])|(25,[5,11,14,17,2...|\n",
            "| 31|  unemployed| married|secondary|     no|    314|    yes|  no| cellular| 20|  nov|    1341|       3|  178|       7| failure|    yes|      7.0|          0.0|            0.0|          0.0|          1.0|       0.0|           0.0|          0.0|(11,[7],[1.0])|    (3,[0],[1.0])|      (3,[0],[1.0])|    (2,[0],[1.0])|    (2,[1],[1.0])| (2,[0],[1.0])|     (2,[0],[1.0])|(25,[7,11,14,17,2...|\n",
            "| 50| blue-collar| married|  primary|     no|  12519|    yes|  no| cellular| 21|  nov|     615|       3|   34|       1| failure|    yes|      3.0|          0.0|            2.0|          0.0|          1.0|       0.0|           0.0|          0.0|(11,[3],[1.0])|    (3,[0],[1.0])|      (3,[2],[1.0])|    (2,[0],[1.0])|    (2,[1],[1.0])| (2,[0],[1.0])|     (2,[0],[1.0])|(25,[3,11,16,17,2...|\n",
            "| 47|  technician| married|secondary|     no|      0|     no|  no| cellular| 21|  nov|     591|       1|   10|       1| failure|    yes|      1.0|          0.0|            0.0|          0.0|          0.0|       0.0|           0.0|          0.0|(11,[1],[1.0])|    (3,[0],[1.0])|      (3,[0],[1.0])|    (2,[0],[1.0])|    (2,[0],[1.0])| (2,[0],[1.0])|     (2,[0],[1.0])|(25,[1,11,14,17,1...|\n",
            "| 59|  management| married| tertiary|     no|   7049|     no|  no| cellular| 21|  nov|     530|       1|  163|       2| failure|    yes|      0.0|          0.0|            1.0|          0.0|          0.0|       0.0|           0.0|          0.0|(11,[0],[1.0])|    (3,[0],[1.0])|      (3,[1],[1.0])|    (2,[0],[1.0])|    (2,[0],[1.0])| (2,[0],[1.0])|     (2,[0],[1.0])|(25,[0,11,15,17,1...|\n",
            "| 31|  management| married|secondary|     no|   8629|    yes|  no| cellular| 21|  nov|     957|       1|  184|       2| failure|    yes|      0.0|          0.0|            0.0|          0.0|          1.0|       0.0|           0.0|          0.0|(11,[0],[1.0])|    (3,[0],[1.0])|      (3,[0],[1.0])|    (2,[0],[1.0])|    (2,[1],[1.0])| (2,[0],[1.0])|     (2,[0],[1.0])|(25,[0,11,14,17,2...|\n",
            "| 53| blue-collar| married|secondary|     no|   1777|    yes|  no| cellular| 21|  nov|     796|       5|  154|       1| failure|    yes|      3.0|          0.0|            0.0|          0.0|          1.0|       0.0|           0.0|          0.0|(11,[3],[1.0])|    (3,[0],[1.0])|      (3,[0],[1.0])|    (2,[0],[1.0])|    (2,[1],[1.0])| (2,[0],[1.0])|     (2,[0],[1.0])|(25,[3,11,14,17,2...|\n",
            "| 40|  technician|  single| tertiary|     no|   1646|    yes|  no| cellular|  2|  feb|     215|       1|  242|       2| failure|    yes|      1.0|          1.0|            1.0|          0.0|          1.0|       0.0|           0.0|          0.0|(11,[1],[1.0])|    (3,[1],[1.0])|      (3,[1],[1.0])|    (2,[0],[1.0])|    (2,[1],[1.0])| (2,[0],[1.0])|     (2,[0],[1.0])|(25,[1,12,15,17,2...|\n",
            "| 44|  unemployed| married|secondary|     no|      0|    yes|  no| cellular|  2|  feb|     699|       1|  272|       1| failure|    yes|      7.0|          0.0|            0.0|          0.0|          1.0|       0.0|           0.0|          0.0|(11,[7],[1.0])|    (3,[0],[1.0])|      (3,[0],[1.0])|    (2,[0],[1.0])|    (2,[1],[1.0])| (2,[0],[1.0])|     (2,[0],[1.0])|(25,[7,11,14,17,2...|\n",
            "| 43|      admin.|  single|secondary|     no|   -247|    yes| yes| cellular|  2|  feb|     751|       2|   76|       4| failure|    yes|      2.0|          1.0|            0.0|          0.0|          1.0|       1.0|           0.0|          0.0|(11,[2],[1.0])|    (3,[1],[1.0])|      (3,[0],[1.0])|    (2,[0],[1.0])|    (2,[1],[1.0])| (2,[1],[1.0])|     (2,[0],[1.0])|(25,[2,12,14,17,2...|\n",
            "+---+------------+--------+---------+-------+-------+-------+----+---------+---+-----+--------+--------+-----+--------+--------+-------+---------+-------------+---------------+-------------+-------------+----------+--------------+-------------+--------------+-----------------+-------------------+-----------------+-----------------+--------------+------------------+--------------------+\n",
            "only showing top 20 rows\n",
            "\n"
          ],
          "name": "stdout"
        }
      ]
    },
    {
      "cell_type": "markdown",
      "metadata": {
        "id": "pOqHERYJCQuC"
      },
      "source": [
        "## 3.1 normalisation"
      ]
    },
    {
      "cell_type": "code",
      "metadata": {
        "id": "cfL6_sca5VwI",
        "colab": {
          "base_uri": "https://localhost:8080/",
          "height": 479
        },
        "outputId": "05f9408a-b16f-49f3-a363-bf6d3a0a9eda"
      },
      "source": [
        "# Removing selected attributes\n",
        "dlist =  ['job', 'marital', 'education', 'default','housing', 'loan', 'poutcome', ]\n",
        "df2_new.drop('job').drop('marital').drop('education').drop('default').drop('housing').drop('loan').drop('poutcome').drop('deposit').collect()\n",
        "df2_new.createOrReplaceTempView('bank')\n",
        "n = spark.sql(\"select age, balance, campaign, pdays,deposit_i_val,previous,job_i_val_res, marital_i_val_res, education_i_val_res, default_i_val_res, housing_i_val_res, loan_i_val_res, poutcome_i_val_res, features from bank\")\n",
        "df2_new.show()"
      ],
      "execution_count": null,
      "outputs": [
        {
          "output_type": "stream",
          "text": [
            "+---+------------+--------+---------+-------+-------+-------+----+---------+---+-----+--------+--------+-----+--------+--------+-------+---------+-------------+---------------+-------------+-------------+----------+--------------+-------------+--------------+-----------------+-------------------+-----------------+-----------------+--------------+------------------+--------------------+\n",
            "|age|         job| marital|education|default|balance|housing|loan|  contact|day|month|duration|campaign|pdays|previous|poutcome|deposit|job_i_val|marital_i_val|education_i_val|default_i_val|housing_i_val|loan_i_val|poutcome_i_val|deposit_i_val| job_i_val_res|marital_i_val_res|education_i_val_res|default_i_val_res|housing_i_val_res|loan_i_val_res|poutcome_i_val_res|            features|\n",
            "+---+------------+--------+---------+-------+-------+-------+----+---------+---+-----+--------+--------+-----+--------+--------+-------+---------+-------------+---------------+-------------+-------------+----------+--------------+-------------+--------------+-----------------+-------------------+-----------------+-----------------+--------------+------------------+--------------------+\n",
            "| 33|    services| married|secondary|     no|   3444|    yes|  no|telephone| 21|  oct|     144|       1|   91|       4| failure|    yes|      5.0|          0.0|            0.0|          0.0|          1.0|       0.0|           0.0|          0.0|(11,[5],[1.0])|    (3,[0],[1.0])|      (3,[0],[1.0])|    (2,[0],[1.0])|    (2,[1],[1.0])| (2,[0],[1.0])|     (2,[0],[1.0])|(25,[5,11,14,17,2...|\n",
            "| 53|     retired| married| tertiary|     no|   2269|     no|  no| cellular| 17|  nov|    1091|       2|  150|       1| success|    yes|      4.0|          0.0|            1.0|          0.0|          0.0|       0.0|           1.0|          0.0|(11,[4],[1.0])|    (3,[0],[1.0])|      (3,[1],[1.0])|    (2,[0],[1.0])|    (2,[0],[1.0])| (2,[0],[1.0])|     (2,[1],[1.0])|(25,[4,11,15,17,1...|\n",
            "| 37|  technician| married|secondary|     no|   5115|    yes|  no| cellular| 17|  nov|    1210|       2|  171|       4| failure|    yes|      1.0|          0.0|            0.0|          0.0|          1.0|       0.0|           0.0|          0.0|(11,[1],[1.0])|    (3,[0],[1.0])|      (3,[0],[1.0])|    (2,[0],[1.0])|    (2,[1],[1.0])| (2,[0],[1.0])|     (2,[0],[1.0])|(25,[1,11,14,17,2...|\n",
            "| 45|entrepreneur| married|secondary|     no|    781|     no| yes| cellular| 17|  nov|     652|       2|  126|       2| failure|    yes|      9.0|          0.0|            0.0|          0.0|          0.0|       1.0|           0.0|          0.0|(11,[9],[1.0])|    (3,[0],[1.0])|      (3,[0],[1.0])|    (2,[0],[1.0])|    (2,[0],[1.0])| (2,[1],[1.0])|     (2,[0],[1.0])|(25,[9,11,14,17,1...|\n",
            "| 46|  unemployed|divorced|secondary|     no|   3354|    yes|  no| cellular| 19|  nov|     522|       1|  174|       1| success|    yes|      7.0|          2.0|            0.0|          0.0|          1.0|       0.0|           1.0|          0.0|(11,[7],[1.0])|    (3,[2],[1.0])|      (3,[0],[1.0])|    (2,[0],[1.0])|    (2,[1],[1.0])| (2,[0],[1.0])|     (2,[1],[1.0])|(25,[7,13,14,17,2...|\n",
            "| 40|  management| married| tertiary|     no|   3352|    yes|  no| cellular| 19|  nov|     639|       2|   27|       1| success|    yes|      0.0|          0.0|            1.0|          0.0|          1.0|       0.0|           1.0|          0.0|(11,[0],[1.0])|    (3,[0],[1.0])|      (3,[1],[1.0])|    (2,[0],[1.0])|    (2,[1],[1.0])| (2,[0],[1.0])|     (2,[1],[1.0])|(25,[0,11,15,17,2...|\n",
            "| 32|  technician| married| tertiary|     no|   4654|    yes| yes| cellular| 20|  nov|     276|       1|  128|       2| failure|    yes|      1.0|          0.0|            1.0|          0.0|          1.0|       1.0|           0.0|          0.0|(11,[1],[1.0])|    (3,[0],[1.0])|      (3,[1],[1.0])|    (2,[0],[1.0])|    (2,[1],[1.0])| (2,[1],[1.0])|     (2,[0],[1.0])|(25,[1,11,15,17,2...|\n",
            "| 30| blue-collar| married|secondary|     no|    501|    yes| yes| cellular| 20|  nov|     994|       1|  177|       1| failure|    yes|      3.0|          0.0|            0.0|          0.0|          1.0|       1.0|           0.0|          0.0|(11,[3],[1.0])|    (3,[0],[1.0])|      (3,[0],[1.0])|    (2,[0],[1.0])|    (2,[1],[1.0])| (2,[1],[1.0])|     (2,[0],[1.0])|(25,[3,11,14,17,2...|\n",
            "| 46|  technician| married| tertiary|     no|      0|     no|  no| cellular| 20|  nov|     531|       1|  167|       1| failure|    yes|      1.0|          0.0|            1.0|          0.0|          0.0|       0.0|           0.0|          0.0|(11,[1],[1.0])|    (3,[0],[1.0])|      (3,[1],[1.0])|    (2,[0],[1.0])|    (2,[0],[1.0])| (2,[0],[1.0])|     (2,[0],[1.0])|(25,[1,11,15,17,1...|\n",
            "| 38|entrepreneur| married| tertiary|     no|   1110|    yes|  no| cellular| 20|  nov|     888|       2|  183|       2| failure|    yes|      9.0|          0.0|            1.0|          0.0|          1.0|       0.0|           0.0|          0.0|(11,[9],[1.0])|    (3,[0],[1.0])|      (3,[1],[1.0])|    (2,[0],[1.0])|    (2,[1],[1.0])| (2,[0],[1.0])|     (2,[0],[1.0])|(25,[9,11,15,17,2...|\n",
            "| 32|    services| married|secondary|     no|    983|    yes|  no| cellular| 20|  nov|     500|       2|  133|       1| failure|    yes|      5.0|          0.0|            0.0|          0.0|          1.0|       0.0|           0.0|          0.0|(11,[5],[1.0])|    (3,[0],[1.0])|      (3,[0],[1.0])|    (2,[0],[1.0])|    (2,[1],[1.0])| (2,[0],[1.0])|     (2,[0],[1.0])|(25,[5,11,14,17,2...|\n",
            "| 31|  unemployed| married|secondary|     no|    314|    yes|  no| cellular| 20|  nov|    1341|       3|  178|       7| failure|    yes|      7.0|          0.0|            0.0|          0.0|          1.0|       0.0|           0.0|          0.0|(11,[7],[1.0])|    (3,[0],[1.0])|      (3,[0],[1.0])|    (2,[0],[1.0])|    (2,[1],[1.0])| (2,[0],[1.0])|     (2,[0],[1.0])|(25,[7,11,14,17,2...|\n",
            "| 50| blue-collar| married|  primary|     no|  12519|    yes|  no| cellular| 21|  nov|     615|       3|   34|       1| failure|    yes|      3.0|          0.0|            2.0|          0.0|          1.0|       0.0|           0.0|          0.0|(11,[3],[1.0])|    (3,[0],[1.0])|      (3,[2],[1.0])|    (2,[0],[1.0])|    (2,[1],[1.0])| (2,[0],[1.0])|     (2,[0],[1.0])|(25,[3,11,16,17,2...|\n",
            "| 47|  technician| married|secondary|     no|      0|     no|  no| cellular| 21|  nov|     591|       1|   10|       1| failure|    yes|      1.0|          0.0|            0.0|          0.0|          0.0|       0.0|           0.0|          0.0|(11,[1],[1.0])|    (3,[0],[1.0])|      (3,[0],[1.0])|    (2,[0],[1.0])|    (2,[0],[1.0])| (2,[0],[1.0])|     (2,[0],[1.0])|(25,[1,11,14,17,1...|\n",
            "| 59|  management| married| tertiary|     no|   7049|     no|  no| cellular| 21|  nov|     530|       1|  163|       2| failure|    yes|      0.0|          0.0|            1.0|          0.0|          0.0|       0.0|           0.0|          0.0|(11,[0],[1.0])|    (3,[0],[1.0])|      (3,[1],[1.0])|    (2,[0],[1.0])|    (2,[0],[1.0])| (2,[0],[1.0])|     (2,[0],[1.0])|(25,[0,11,15,17,1...|\n",
            "| 31|  management| married|secondary|     no|   8629|    yes|  no| cellular| 21|  nov|     957|       1|  184|       2| failure|    yes|      0.0|          0.0|            0.0|          0.0|          1.0|       0.0|           0.0|          0.0|(11,[0],[1.0])|    (3,[0],[1.0])|      (3,[0],[1.0])|    (2,[0],[1.0])|    (2,[1],[1.0])| (2,[0],[1.0])|     (2,[0],[1.0])|(25,[0,11,14,17,2...|\n",
            "| 53| blue-collar| married|secondary|     no|   1777|    yes|  no| cellular| 21|  nov|     796|       5|  154|       1| failure|    yes|      3.0|          0.0|            0.0|          0.0|          1.0|       0.0|           0.0|          0.0|(11,[3],[1.0])|    (3,[0],[1.0])|      (3,[0],[1.0])|    (2,[0],[1.0])|    (2,[1],[1.0])| (2,[0],[1.0])|     (2,[0],[1.0])|(25,[3,11,14,17,2...|\n",
            "| 40|  technician|  single| tertiary|     no|   1646|    yes|  no| cellular|  2|  feb|     215|       1|  242|       2| failure|    yes|      1.0|          1.0|            1.0|          0.0|          1.0|       0.0|           0.0|          0.0|(11,[1],[1.0])|    (3,[1],[1.0])|      (3,[1],[1.0])|    (2,[0],[1.0])|    (2,[1],[1.0])| (2,[0],[1.0])|     (2,[0],[1.0])|(25,[1,12,15,17,2...|\n",
            "| 44|  unemployed| married|secondary|     no|      0|    yes|  no| cellular|  2|  feb|     699|       1|  272|       1| failure|    yes|      7.0|          0.0|            0.0|          0.0|          1.0|       0.0|           0.0|          0.0|(11,[7],[1.0])|    (3,[0],[1.0])|      (3,[0],[1.0])|    (2,[0],[1.0])|    (2,[1],[1.0])| (2,[0],[1.0])|     (2,[0],[1.0])|(25,[7,11,14,17,2...|\n",
            "| 43|      admin.|  single|secondary|     no|   -247|    yes| yes| cellular|  2|  feb|     751|       2|   76|       4| failure|    yes|      2.0|          1.0|            0.0|          0.0|          1.0|       1.0|           0.0|          0.0|(11,[2],[1.0])|    (3,[1],[1.0])|      (3,[0],[1.0])|    (2,[0],[1.0])|    (2,[1],[1.0])| (2,[1],[1.0])|     (2,[0],[1.0])|(25,[2,12,14,17,2...|\n",
            "+---+------------+--------+---------+-------+-------+-------+----+---------+---+-----+--------+--------+-----+--------+--------+-------+---------+-------------+---------------+-------------+-------------+----------+--------------+-------------+--------------+-----------------+-------------------+-----------------+-----------------+--------------+------------------+--------------------+\n",
            "only showing top 20 rows\n",
            "\n"
          ],
          "name": "stdout"
        }
      ]
    },
    {
      "cell_type": "code",
      "metadata": {
        "id": "Rg0py359385s",
        "colab": {
          "base_uri": "https://localhost:8080/",
          "height": 479
        },
        "outputId": "42eeb0ec-6bfc-4372-8b91-bc56d19a6953"
      },
      "source": [
        "#Applying Min-Max normalisation on each attribute using MinMaxScaler\n",
        "from pyspark.ml.feature import MinMaxScaler\n",
        "assembler = VectorAssembler().setInputCols(n.columns).setOutputCol(\"features_new\")\n",
        "# Transforming the dataset\n",
        "transformed = assembler.transform(n)\n",
        "scaler = MinMaxScaler(inputCol=\"features_new\",outputCol=\"scaledFeatures\")\n",
        "scalerModel =  scaler.fit(transformed.select(\"features_new\"))\n",
        "scaledData = scalerModel.transform(transformed)\n",
        "scaledData.createOrReplaceTempView('a')\n",
        "new = spark.sql(\"select  scaledFeatures as features from a\")\n",
        "scaledData.show()\n",
        "\n"
      ],
      "execution_count": null,
      "outputs": [
        {
          "output_type": "stream",
          "text": [
            "+---+-------+--------+-----+-------------+--------+--------------+-----------------+-------------------+-----------------+-----------------+--------------+------------------+--------------------+--------------------+--------------------+\n",
            "|age|balance|campaign|pdays|deposit_i_val|previous| job_i_val_res|marital_i_val_res|education_i_val_res|default_i_val_res|housing_i_val_res|loan_i_val_res|poutcome_i_val_res|            features|        features_new|      scaledFeatures|\n",
            "+---+-------+--------+-----+-------------+--------+--------------+-----------------+-------------------+-----------------+-----------------+--------------+------------------+--------------------+--------------------+--------------------+\n",
            "| 33|   3444|       1|   91|          0.0|       4|(11,[5],[1.0])|    (3,[0],[1.0])|      (3,[0],[1.0])|    (2,[0],[1.0])|    (2,[1],[1.0])| (2,[0],[1.0])|     (2,[0],[1.0])|(25,[5,11,14,17,2...|(56,[0,1,2,3,5,11...|[0.21428571428571...|\n",
            "| 53|   2269|       2|  150|          0.0|       1|(11,[4],[1.0])|    (3,[0],[1.0])|      (3,[1],[1.0])|    (2,[0],[1.0])|    (2,[0],[1.0])| (2,[0],[1.0])|     (2,[1],[1.0])|(25,[4,11,15,17,1...|(56,[0,1,2,3,5,10...|[0.5,0.0390421465...|\n",
            "| 37|   5115|       2|  171|          0.0|       4|(11,[1],[1.0])|    (3,[0],[1.0])|      (3,[0],[1.0])|    (2,[0],[1.0])|    (2,[1],[1.0])| (2,[0],[1.0])|     (2,[0],[1.0])|(25,[1,11,14,17,2...|(56,[0,1,2,3,5,7,...|[0.27142857142857...|\n",
            "| 45|    781|       2|  126|          0.0|       2|(11,[9],[1.0])|    (3,[0],[1.0])|      (3,[0],[1.0])|    (2,[0],[1.0])|    (2,[0],[1.0])| (2,[1],[1.0])|     (2,[0],[1.0])|(25,[9,11,14,17,1...|(56,[0,1,2,3,5,15...|[0.38571428571428...|\n",
            "| 46|   3354|       1|  174|          0.0|       1|(11,[7],[1.0])|    (3,[2],[1.0])|      (3,[0],[1.0])|    (2,[0],[1.0])|    (2,[1],[1.0])| (2,[0],[1.0])|     (2,[1],[1.0])|(25,[7,13,14,17,2...|(56,[0,1,2,3,5,13...|[0.4,0.0522509800...|\n",
            "| 40|   3352|       2|   27|          0.0|       1|(11,[0],[1.0])|    (3,[0],[1.0])|      (3,[1],[1.0])|    (2,[0],[1.0])|    (2,[1],[1.0])| (2,[0],[1.0])|     (2,[1],[1.0])|(25,[0,11,15,17,2...|(56,[0,1,2,3,5,6,...|[0.31428571428571...|\n",
            "| 32|   4654|       1|  128|          0.0|       2|(11,[1],[1.0])|    (3,[0],[1.0])|      (3,[1],[1.0])|    (2,[0],[1.0])|    (2,[1],[1.0])| (2,[1],[1.0])|     (2,[0],[1.0])|(25,[1,11,15,17,2...|(56,[0,1,2,3,5,7,...|[0.2,0.0680772321...|\n",
            "| 30|    501|       1|  177|          0.0|       1|(11,[3],[1.0])|    (3,[0],[1.0])|      (3,[0],[1.0])|    (2,[0],[1.0])|    (2,[1],[1.0])| (2,[1],[1.0])|     (2,[0],[1.0])|(25,[3,11,14,17,2...|(56,[0,1,2,3,5,9,...|[0.17142857142857...|\n",
            "| 46|      0|       1|  167|          0.0|       1|(11,[1],[1.0])|    (3,[0],[1.0])|      (3,[1],[1.0])|    (2,[0],[1.0])|    (2,[0],[1.0])| (2,[0],[1.0])|     (2,[0],[1.0])|(25,[1,11,15,17,1...|(56,[0,2,3,5,7,17...|[0.4,0.0114192495...|\n",
            "| 38|   1110|       2|  183|          0.0|       2|(11,[9],[1.0])|    (3,[0],[1.0])|      (3,[1],[1.0])|    (2,[0],[1.0])|    (2,[1],[1.0])| (2,[0],[1.0])|     (2,[0],[1.0])|(25,[9,11,15,17,2...|(56,[0,1,2,3,5,15...|[0.28571428571428...|\n",
            "| 32|    983|       2|  133|          0.0|       1|(11,[5],[1.0])|    (3,[0],[1.0])|      (3,[0],[1.0])|    (2,[0],[1.0])|    (2,[1],[1.0])| (2,[0],[1.0])|     (2,[0],[1.0])|(25,[5,11,14,17,2...|(56,[0,1,2,3,5,11...|[0.2,0.0233863309...|\n",
            "| 31|    314|       3|  178|          0.0|       7|(11,[7],[1.0])|    (3,[0],[1.0])|      (3,[0],[1.0])|    (2,[0],[1.0])|    (2,[1],[1.0])| (2,[0],[1.0])|     (2,[0],[1.0])|(25,[7,11,14,17,2...|(56,[0,1,2,3,5,13...|[0.18571428571428...|\n",
            "| 50|  12519|       3|   34|          0.0|       1|(11,[3],[1.0])|    (3,[0],[1.0])|      (3,[2],[1.0])|    (2,[0],[1.0])|    (2,[1],[1.0])| (2,[0],[1.0])|     (2,[0],[1.0])|(25,[3,11,16,17,2...|(56,[0,1,2,3,5,9,...|[0.45714285714285...|\n",
            "| 47|      0|       1|   10|          0.0|       1|(11,[1],[1.0])|    (3,[0],[1.0])|      (3,[0],[1.0])|    (2,[0],[1.0])|    (2,[0],[1.0])| (2,[0],[1.0])|     (2,[0],[1.0])|(25,[1,11,14,17,1...|(56,[0,2,3,5,7,17...|[0.41428571428571...|\n",
            "| 59|   7049|       1|  163|          0.0|       2|(11,[0],[1.0])|    (3,[0],[1.0])|      (3,[1],[1.0])|    (2,[0],[1.0])|    (2,[0],[1.0])| (2,[0],[1.0])|     (2,[0],[1.0])|(25,[0,11,15,17,1...|(56,[0,1,2,3,5,6,...|[0.58571428571428...|\n",
            "| 31|   8629|       1|  184|          0.0|       2|(11,[0],[1.0])|    (3,[0],[1.0])|      (3,[0],[1.0])|    (2,[0],[1.0])|    (2,[1],[1.0])| (2,[0],[1.0])|     (2,[0],[1.0])|(25,[0,11,14,17,2...|(56,[0,1,2,3,5,6,...|[0.18571428571428...|\n",
            "| 53|   1777|       5|  154|          0.0|       1|(11,[3],[1.0])|    (3,[0],[1.0])|      (3,[0],[1.0])|    (2,[0],[1.0])|    (2,[1],[1.0])| (2,[0],[1.0])|     (2,[0],[1.0])|(25,[3,11,14,17,2...|(56,[0,1,2,3,5,9,...|[0.5,0.0330525188...|\n",
            "| 40|   1646|       1|  242|          0.0|       2|(11,[1],[1.0])|    (3,[1],[1.0])|      (3,[1],[1.0])|    (2,[0],[1.0])|    (2,[1],[1.0])| (2,[0],[1.0])|     (2,[0],[1.0])|(25,[1,12,15,17,2...|(56,[0,1,2,3,5,7,...|[0.31428571428571...|\n",
            "| 44|      0|       1|  272|          0.0|       1|(11,[7],[1.0])|    (3,[0],[1.0])|      (3,[0],[1.0])|    (2,[0],[1.0])|    (2,[1],[1.0])| (2,[0],[1.0])|     (2,[0],[1.0])|(25,[7,11,14,17,2...|(56,[0,2,3,5,13,1...|[0.37142857142857...|\n",
            "| 43|   -247|       2|   76|          0.0|       4|(11,[2],[1.0])|    (3,[1],[1.0])|      (3,[0],[1.0])|    (2,[0],[1.0])|    (2,[1],[1.0])| (2,[1],[1.0])|     (2,[0],[1.0])|(25,[2,12,14,17,2...|(56,[0,1,2,3,5,8,...|[0.35714285714285...|\n",
            "+---+-------+--------+-----+-------------+--------+--------------+-----------------+-------------------+-----------------+-----------------+--------------+------------------+--------------------+--------------------+--------------------+\n",
            "only showing top 20 rows\n",
            "\n"
          ],
          "name": "stdout"
        }
      ]
    },
    {
      "cell_type": "markdown",
      "metadata": {
        "id": "9trUY7ZgCzhW"
      },
      "source": [
        "# 4.Unsupervised learning"
      ]
    },
    {
      "cell_type": "markdown",
      "metadata": {
        "id": "KTQfUch2Cmmi"
      },
      "source": [
        "## 4.1 K-means"
      ]
    },
    {
      "cell_type": "code",
      "metadata": {
        "id": "dGGZI70Ohqgg",
        "colab": {
          "base_uri": "https://localhost:8080/",
          "height": 816
        },
        "outputId": "b983b681-df12-45a5-b4d0-27ec8c04f3ad"
      },
      "source": [
        "# Perform unsupervised learning on df2 with k-means \n",
        "from pyspark.ml.clustering import KMeans\n",
        "from pyspark.ml.evaluation import ClusteringEvaluator\n",
        " \n",
        "# Trains a k-means model\n",
        "kmeans = KMeans().setK(2).setSeed(1)\n",
        "model = kmeans.fit(new)\n",
        "trans = model.transform(new)\n",
        "evaluator = ClusteringEvaluator()\n",
        "\n",
        "silhouette = evaluator.evaluate(trans)\n",
        "\n",
        "print(\"Silhouette with squared euclidean distance = \" + str(silhouette))\n",
        "\n",
        "centers = model.clusterCenters()\n",
        "\n",
        "for center in centers:\n",
        "    print(center)\n",
        "\n",
        "trans.show()\n"
      ],
      "execution_count": null,
      "outputs": [
        {
          "output_type": "stream",
          "text": [
            "Silhouette with squared euclidean distance = 0.2841566617792768\n",
            "[0.36162698 0.03695501 0.06952862 0.18883136 0.12407407 0.0372085\n",
            " 0.36111111 0.12407407 0.0962963  0.04814815 0.13425926 0.03796296\n",
            " 0.06203704 0.05648148 0.04259259 0.01203704 0.025      0.53611111\n",
            " 0.37777778 0.08611111 0.30555556 0.6        0.09444444 1.\n",
            " 0.         0.89351852 0.10648148 0.95462963 0.04537037 0.21296296\n",
            " 0.78703704 0.36111111 0.12407407 0.0962963  0.04814815 0.13425926\n",
            " 0.03796296 0.06203704 0.05648148 0.04259259 0.01203704 0.025\n",
            " 0.53611111 0.37777778 0.08611111 0.30555556 0.6        0.09444444\n",
            " 1.         0.         0.89351852 0.10648148 0.95462963 0.04537037\n",
            " 0.21296296 0.78703704]\n",
            "[0.31996068 0.02846724 0.08048374 0.28095335 0.49357798 0.04040095\n",
            " 0.14862385 0.2        0.18715596 0.2        0.04678899 0.10183486\n",
            " 0.02477064 0.02385321 0.02568807 0.02752294 0.01376147 0.59633028\n",
            " 0.30275229 0.10091743 0.69174312 0.19908257 0.10917431 0.99357798\n",
            " 0.00642202 0.20825688 0.79174312 0.85229358 0.14770642 0.86330275\n",
            " 0.13669725 0.14862385 0.2        0.18715596 0.2        0.04678899\n",
            " 0.10183486 0.02477064 0.02385321 0.02568807 0.02752294 0.01376147\n",
            " 0.59633028 0.30275229 0.10091743 0.69174312 0.19908257 0.10917431\n",
            " 0.99357798 0.00642202 0.20825688 0.79174312 0.85229358 0.14770642\n",
            " 0.86330275 0.13669725]\n",
            "+--------------------+----------+\n",
            "|            features|prediction|\n",
            "+--------------------+----------+\n",
            "|[0.21428571428571...|         1|\n",
            "|[0.5,0.0390421465...|         0|\n",
            "|[0.27142857142857...|         1|\n",
            "|[0.38571428571428...|         1|\n",
            "|[0.4,0.0522509800...|         1|\n",
            "|[0.31428571428571...|         0|\n",
            "|[0.2,0.0680772321...|         1|\n",
            "|[0.17142857142857...|         1|\n",
            "|[0.4,0.0114192495...|         0|\n",
            "|[0.28571428571428...|         1|\n",
            "|[0.2,0.0233863309...|         1|\n",
            "|[0.18571428571428...|         1|\n",
            "|[0.45714285714285...|         1|\n",
            "|[0.41428571428571...|         1|\n",
            "|[0.58571428571428...|         0|\n",
            "|[0.18571428571428...|         1|\n",
            "|[0.5,0.0330525188...|         1|\n",
            "|[0.31428571428571...|         1|\n",
            "|[0.37142857142857...|         1|\n",
            "|[0.35714285714285...|         1|\n",
            "+--------------------+----------+\n",
            "only showing top 20 rows\n",
            "\n"
          ],
          "name": "stdout"
        }
      ]
    },
    {
      "cell_type": "code",
      "metadata": {
        "id": "YJkZgzL0-O0A",
        "colab": {
          "base_uri": "https://localhost:8080/",
          "height": 34
        },
        "outputId": "39f93c7e-c642-48ef-eac8-7b0ff1188df5"
      },
      "source": [
        "# Predicting the output values\n",
        "pred = trans.select(\"prediction\").collect()\n",
        "real = scaledData.select(\"deposit_i_val\").collect()\n",
        "from sklearn.metrics import confusion_matrix\n",
        "logreg_matrix = confusion_matrix(real, pred)\n",
        "logreg_matrix\n",
        "# Evaluate clustering results with accuracy\n",
        "accuracy  = logreg_matrix[0,0]+logreg_matrix[1,1]\n",
        "accuracy = accuracy/(logreg_matrix[0,0]+logreg_matrix[1,1] + logreg_matrix[1,0]+logreg_matrix[0,1])\n",
        "accuracy"
      ],
      "execution_count": null,
      "outputs": [
        {
          "output_type": "execute_result",
          "data": {
            "text/plain": [
              "0.6838709677419355"
            ]
          },
          "metadata": {
            "tags": []
          },
          "execution_count": 14
        }
      ]
    },
    {
      "cell_type": "code",
      "metadata": {
        "id": "z2ltxzVmA0eK",
        "colab": {
          "base_uri": "https://localhost:8080/",
          "height": 34
        },
        "outputId": "4e7bd001-c254-4ffc-ba79-eb33cef4132e"
      },
      "source": [
        "# Finding the test error\n",
        "print(\"Test error = %g\" % (1.0 - accuracy))"
      ],
      "execution_count": null,
      "outputs": [
        {
          "output_type": "stream",
          "text": [
            "Test error = 0.316129\n"
          ],
          "name": "stdout"
        }
      ]
    },
    {
      "cell_type": "markdown",
      "metadata": {
        "id": "FHom8o2KCt36"
      },
      "source": [
        "## 4.2 PCA"
      ]
    },
    {
      "cell_type": "code",
      "metadata": {
        "id": "wT4cx5uGTjmj",
        "colab": {
          "base_uri": "https://localhost:8080/",
          "height": 493
        },
        "outputId": "cf14e1bf-cf3b-41c7-c9b8-0a013ed91cd2"
      },
      "source": [
        "#Generate a scatter plot using the first two PCA components to investigate the data distribution.\n",
        "from pyspark.ml.feature import PCA\n",
        "from pyspark.ml.linalg import Vectors\n",
        "import matplotlib.pyplot as plt\n",
        "import numpy as np\n",
        "# two pca components\n",
        "pca = PCA(k=2, inputCol=\"features\",outputCol=\"pcaFeatures\")\n",
        "model = pca.fit(new)\n",
        "# apply PCA\n",
        "result = model.transform(new)\n",
        "result.show(5, truncate=False)\n",
        "print (\"count of result\", result.count())\n",
        "#plot\n",
        "X_pca = result.rdd.map(lambda row: row.pcaFeatures).collect()\n",
        "X_pca = np.array(X_pca)\n",
        " \n",
        "plt.scatter(X_pca[:,0], X_pca[:,1])\n",
        "plt.show()\n",
        "\n"
      ],
      "execution_count": null,
      "outputs": [
        {
          "output_type": "stream",
          "text": [
            "+-------------------------------------------------------------------------------------------------------------------------------------------------------------------------------------------------------------------------------------------------------------------------------------------------------------------+------------------------------------------+\n",
            "|features                                                                                                                                                                                                                                                                                                           |pcaFeatures                               |\n",
            "+-------------------------------------------------------------------------------------------------------------------------------------------------------------------------------------------------------------------------------------------------------------------------------------------------------------------+------------------------------------------+\n",
            "|[0.21428571428571427,0.05334664361715079,0.0,0.10550996483001172,0.0,0.05555555555555555,0.0,0.0,0.0,0.0,0.0,1.0,0.0,0.0,0.0,0.0,0.0,1.0,0.0,0.0,1.0,0.0,0.0,1.0,0.0,0.0,1.0,1.0,0.0,1.0,0.0,0.0,0.0,0.0,0.0,0.0,1.0,0.0,0.0,0.0,0.0,0.0,1.0,0.0,0.0,1.0,0.0,0.0,1.0,0.0,0.0,1.0,1.0,0.0,1.0,0.0]                  |[1.6255346779875237,-0.6004125737378924]  |\n",
            "|[0.5,0.03904214652674637,0.09090909090909091,0.1746776084407972,0.0,0.0,0.0,0.0,0.0,0.0,1.0,0.0,0.0,0.0,0.0,0.0,0.0,1.0,0.0,0.0,0.0,1.0,0.0,1.0,0.0,1.0,0.0,1.0,0.0,0.0,1.0,0.0,0.0,0.0,0.0,1.0,0.0,0.0,0.0,0.0,0.0,0.0,1.0,0.0,0.0,0.0,1.0,0.0,1.0,0.0,1.0,0.0,1.0,0.0,0.0,1.0]                                   |[-1.6734432917517608,-0.43605396166896193]|\n",
            "|[0.2714285714285714,0.07368946458571742,0.09090909090909091,0.19929660023446658,0.0,0.05555555555555555,0.0,1.0,0.0,0.0,0.0,0.0,0.0,0.0,0.0,0.0,0.0,1.0,0.0,0.0,1.0,0.0,0.0,1.0,0.0,0.0,1.0,1.0,0.0,1.0,0.0,0.0,1.0,0.0,0.0,0.0,0.0,0.0,0.0,0.0,0.0,0.0,1.0,0.0,0.0,1.0,0.0,0.0,1.0,0.0,0.0,1.0,1.0,0.0,1.0,0.0]   |[1.631275820878939,-0.5748976534272501]   |\n",
            "|[0.38571428571428573,0.020927174892259745,0.09090909090909091,0.14654161781946073,0.0,0.018518518518518517,0.0,0.0,0.0,0.0,0.0,0.0,0.0,0.0,0.0,1.0,0.0,1.0,0.0,0.0,1.0,0.0,0.0,1.0,0.0,1.0,0.0,0.0,1.0,1.0,0.0,0.0,0.0,0.0,0.0,0.0,0.0,0.0,0.0,0.0,1.0,0.0,1.0,0.0,0.0,1.0,0.0,0.0,1.0,0.0,1.0,0.0,0.0,1.0,1.0,0.0]|[0.5855656617414156,-1.0179338404305285]  |\n",
            "|[0.4,0.05225098001022619,0.0,0.20281359906213364,0.0,0.0,0.0,0.0,0.0,0.0,0.0,0.0,0.0,1.0,0.0,0.0,0.0,0.0,0.0,1.0,1.0,0.0,0.0,1.0,0.0,0.0,1.0,1.0,0.0,0.0,1.0,0.0,0.0,0.0,0.0,0.0,0.0,0.0,1.0,0.0,0.0,0.0,0.0,0.0,1.0,1.0,0.0,0.0,1.0,0.0,0.0,1.0,1.0,0.0,0.0,1.0]                                                  |[0.2088587613340286,-0.8417395004964697]  |\n",
            "+-------------------------------------------------------------------------------------------------------------------------------------------------------------------------------------------------------------------------------------------------------------------------------------------------------------------+------------------------------------------+\n",
            "only showing top 5 rows\n",
            "\n",
            "count of result 2170\n"
          ],
          "name": "stdout"
        },
        {
          "output_type": "display_data",
          "data": {
            "image/png": "[encoded data removed]",
            "text/plain": [
              "<Figure size 432x288 with 1 Axes>"
            ]
          },
          "metadata": {
            "tags": []
          }
        }
      ]
    },
    {
      "cell_type": "markdown",
      "metadata": {
        "id": "ulp_uILXCv4Z"
      },
      "source": [
        "# 5.Supervised learning"
      ]
    },
    {
      "cell_type": "code",
      "metadata": {
        "id": "0O7tszcPfnHN",
        "colab": {
          "base_uri": "https://localhost:8080/",
          "height": 51
        },
        "outputId": "c98d9255-4553-4ee0-c673-a89d5d73fbfa"
      },
      "source": [
        "# use 70 percent df2 as training data set and 30 percent as testing data set\n",
        "train, test = df2.randomSplit([0.7, 0.3], seed = 742)\n",
        "# Display count of training data set and test data set\n",
        "print(\"Training Dataset Count: \" + str(train.count()))\n",
        "print(\"Test Dataset Count: \" + str(test.count()))"
      ],
      "execution_count": null,
      "outputs": [
        {
          "output_type": "stream",
          "text": [
            "Training Dataset Count: 7822\n",
            "Test Dataset Count: 3340\n"
          ],
          "name": "stdout"
        }
      ]
    },
    {
      "cell_type": "markdown",
      "metadata": {
        "id": "2SsHdh7YC-eN"
      },
      "source": [
        "## 5.1 LogisticRegression"
      ]
    },
    {
      "cell_type": "code",
      "metadata": {
        "id": "Vqo_ywFQYxSj"
      },
      "source": [
        "# Logistic Regression\n",
        "from pyspark.ml.classification import LogisticRegression\n",
        "from pyspark.ml.evaluation import BinaryClassificationEvaluator\n",
        "split = scaledData.randomSplit([0.7,0.3])\n",
        "# Fit Logistic Regression Model to train data set\n",
        "reg = LogisticRegression(featuresCol = 'features', labelCol = 'deposit_i_val', maxIter=10)\n",
        "res = reg.fit(split[0])"
      ],
      "execution_count": null,
      "outputs": []
    },
    {
      "cell_type": "code",
      "metadata": {
        "id": "hANwFUzhgG83",
        "colab": {
          "base_uri": "https://localhost:8080/",
          "height": 54
        },
        "outputId": "98abc2fe-e0ae-4b04-8d9b-90e7e108859a"
      },
      "source": [
        "#Exam the coefficients\n",
        "res.coefficients"
      ],
      "execution_count": null,
      "outputs": [
        {
          "output_type": "execute_result",
          "data": {
            "text/plain": [
              "DenseVector([-0.0219, 0.0869, 0.0253, 0.1123, -0.247, 0.0973, -0.4564, -0.2826, 0.0279, 0.8082, 0.6768, 0.0272, 0.0071, -0.0583, 0.0596, -0.077, 0.0752, -0.1734, 1.2175, -0.442, 0.4559, -0.339, 0.3788, 1.1079, -1.094])"
            ]
          },
          "metadata": {
            "tags": []
          },
          "execution_count": 20
        }
      ]
    },
    {
      "cell_type": "code",
      "metadata": {
        "id": "_3YplaKF5RqV",
        "colab": {
          "base_uri": "https://localhost:8080/",
          "height": 561
        },
        "outputId": "87e2b975-b0c2-417b-fb80-0cd515bee0a2"
      },
      "source": [
        "import matplotlib.pyplot as plt\n",
        "import numpy as np\n",
        "beta_coeff = np.sort(res.coefficients)\n",
        "plt.plot(beta_coeff)\n",
        "plt.ylabel('Beta Coefficients')\n",
        "plt.xlabel('Features')\n",
        "plt.show()\n",
        "summary = res.summary\n",
        "roc = summary.roc.toPandas()\n",
        "plt.plot(roc['FPR'], roc['TPR'])\n",
        "plt.ylabel('False Positive Rate')\n",
        "plt.xlabel('True Positive Rate')\n",
        "plt.title('ROC Curve')\n",
        "plt.show()\n"
      ],
      "execution_count": null,
      "outputs": [
        {
          "output_type": "display_data",
          "data": {
            "image/png": "[encoded data removed]",
            "text/plain": [
              "<Figure size 432x288 with 1 Axes>"
            ]
          },
          "metadata": {
            "tags": []
          }
        },
        {
          "output_type": "display_data",
          "data": {
            "image/png": "[encoded data removed]",
            "text/plain": [
              "<Figure size 432x288 with 1 Axes>"
            ]
          },
          "metadata": {
            "tags": []
          }
        }
      ]
    },
    {
      "cell_type": "code",
      "metadata": {
        "id": "fhGKrwfgFjDu",
        "colab": {
          "base_uri": "https://localhost:8080/",
          "height": 901
        },
        "outputId": "70c8d176-a326-440f-817c-e3140a749f3a"
      },
      "source": [
        "# predicting the output values \n",
        "predictions = res.transform(split[1])\n",
        "predictions.select('age', 'deposit_i_val', 'rawPrediction', 'prediction', 'probability').show()\n",
        "predictions.createOrReplaceTempView('pd')\n",
        "pred_val = spark.sql(\"select age, deposit_i_val as label, rawPrediction,prediction,probability from pd\")\n",
        "# Display the predicted values \n",
        "pred_val.show() "
      ],
      "execution_count": null,
      "outputs": [
        {
          "output_type": "stream",
          "text": [
            "+---+-------------+--------------------+----------+--------------------+\n",
            "|age|deposit_i_val|       rawPrediction|prediction|         probability|\n",
            "+---+-------------+--------------------+----------+--------------------+\n",
            "| 19|          0.0|[3.24814442647386...|       0.0|[0.96260637796184...|\n",
            "| 21|          0.0|[-1.1582395032273...|       1.0|[0.23898732375588...|\n",
            "| 21|          1.0|[2.69496598583973...|       0.0|[0.93672894397203...|\n",
            "| 22|          0.0|[2.70990383493308...|       0.0|[0.93760852331761...|\n",
            "| 22|          0.0|[2.69496598583973...|       0.0|[0.93672894397203...|\n",
            "| 22|          0.0|[3.24814442647386...|       0.0|[0.96260637796184...|\n",
            "| 23|          1.0|[-0.4048413735632...|       1.0|[0.40014970562357...|\n",
            "| 23|          0.0|[2.70990383493308...|       0.0|[0.93760852331761...|\n",
            "| 23|          0.0|[-0.1812319720086...|       1.0|[0.45481561288682...|\n",
            "| 24|          0.0|[1.06175923926709...|       0.0|[0.74302659464908...|\n",
            "| 24|          0.0|[3.26368758997751...|       0.0|[0.96316185414193...|\n",
            "| 24|          0.0|[1.80243107821589...|       0.0|[0.85844461105976...|\n",
            "| 24|          0.0|[2.72036973312639...|       0.0|[0.93821796879419...|\n",
            "| 24|          0.0|[1.06175923926709...|       0.0|[0.74302659464908...|\n",
            "| 24|          0.0|[2.96576788689968...|       0.0|[0.95100345391727...|\n",
            "| 25|          0.0|[2.00257441318389...|       0.0|[0.88106710997902...|\n",
            "| 25|          0.0|[1.06175923926709...|       0.0|[0.74302659464908...|\n",
            "| 25|          0.0|[0.76383953618926...|       0.0|[0.68218675758225...|\n",
            "| 25|          1.0|[-0.1812319720086...|       1.0|[0.45481561288682...|\n",
            "| 25|          0.0|[0.71664703668390...|       0.0|[0.67186824481758...|\n",
            "+---+-------------+--------------------+----------+--------------------+\n",
            "only showing top 20 rows\n",
            "\n",
            "+---+-----+--------------------+----------+--------------------+\n",
            "|age|label|       rawPrediction|prediction|         probability|\n",
            "+---+-----+--------------------+----------+--------------------+\n",
            "| 19|  0.0|[3.24814442647386...|       0.0|[0.96260637796184...|\n",
            "| 21|  0.0|[-1.1582395032273...|       1.0|[0.23898732375588...|\n",
            "| 21|  1.0|[2.69496598583973...|       0.0|[0.93672894397203...|\n",
            "| 22|  0.0|[2.70990383493308...|       0.0|[0.93760852331761...|\n",
            "| 22|  0.0|[2.69496598583973...|       0.0|[0.93672894397203...|\n",
            "| 22|  0.0|[3.24814442647386...|       0.0|[0.96260637796184...|\n",
            "| 23|  1.0|[-0.4048413735632...|       1.0|[0.40014970562357...|\n",
            "| 23|  0.0|[2.70990383493308...|       0.0|[0.93760852331761...|\n",
            "| 23|  0.0|[-0.1812319720086...|       1.0|[0.45481561288682...|\n",
            "| 24|  0.0|[1.06175923926709...|       0.0|[0.74302659464908...|\n",
            "| 24|  0.0|[3.26368758997751...|       0.0|[0.96316185414193...|\n",
            "| 24|  0.0|[1.80243107821589...|       0.0|[0.85844461105976...|\n",
            "| 24|  0.0|[2.72036973312639...|       0.0|[0.93821796879419...|\n",
            "| 24|  0.0|[1.06175923926709...|       0.0|[0.74302659464908...|\n",
            "| 24|  0.0|[2.96576788689968...|       0.0|[0.95100345391727...|\n",
            "| 25|  0.0|[2.00257441318389...|       0.0|[0.88106710997902...|\n",
            "| 25|  0.0|[1.06175923926709...|       0.0|[0.74302659464908...|\n",
            "| 25|  0.0|[0.76383953618926...|       0.0|[0.68218675758225...|\n",
            "| 25|  1.0|[-0.1812319720086...|       1.0|[0.45481561288682...|\n",
            "| 25|  0.0|[0.71664703668390...|       0.0|[0.67186824481758...|\n",
            "+---+-----+--------------------+----------+--------------------+\n",
            "only showing top 20 rows\n",
            "\n"
          ],
          "name": "stdout"
        }
      ]
    },
    {
      "cell_type": "code",
      "metadata": {
        "id": "bPiinaKoFjpJ",
        "colab": {
          "base_uri": "https://localhost:8080/",
          "height": 51
        },
        "outputId": "79dbdb6b-dd55-4af2-b200-b76a227db07d"
      },
      "source": [
        "# Using logarithemic regression function\n",
        "a = res.summary.roc\n",
        "b = res.summary.pr\n",
        "# Predicting the output values\n",
        "pred = predictions.select(\"prediction\").collect()\n",
        "real = predictions.select(\"deposit_i_val\").collect()\n",
        "logreg_matrix = confusion_matrix(real, pred)\n",
        "logreg_matrix\n",
        "acc_rate  = logreg_matrix[0,0]+logreg_matrix[1,1]\n",
        "acc_rate = acc_rate/(logreg_matrix[0,0]+logreg_matrix[1,1] + logreg_matrix[1,0]+logreg_matrix[0,1])\n",
        "# Display accuracy value\n",
        "print(\"Accuracy :\",acc_rate)\n",
        "# Display ROC Value\n",
        "evaluator = BinaryClassificationEvaluator()\n",
        "print('Test Area Under ROC', evaluator.evaluate(pred_val))"
      ],
      "execution_count": null,
      "outputs": [
        {
          "output_type": "stream",
          "text": [
            "Accuracy : 0.7492492492492493\n",
            "Test Area Under ROC 0.7861599546228021\n"
          ],
          "name": "stdout"
        }
      ]
    },
    {
      "cell_type": "markdown",
      "metadata": {
        "id": "evM5eiJoDHw2"
      },
      "source": [
        "## 5.2 Decision tree"
      ]
    },
    {
      "cell_type": "code",
      "metadata": {
        "id": "He4mlHb7hBoY",
        "colab": {
          "base_uri": "https://localhost:8080/",
          "height": 918
        },
        "outputId": "21ad0bda-2940-4e74-82b9-5e03a643e5c0"
      },
      "source": [
        "# Using decision tree algorithm\n",
        "from pyspark.ml.classification import DecisionTreeClassifier\n",
        "dt = DecisionTreeClassifier(maxDepth=2, labelCol=\"deposit_i_val\")\n",
        "res1 = dt.fit(split[0])\n",
        "# Display the selected attributes \n",
        "predictions = res1.transform(split[1])\n",
        "predictions.select('age', 'deposit_i_val', 'rawPrediction', 'prediction', 'probability').show()\n",
        "predictions.createOrReplaceTempView('predict')\n",
        "pred_val = spark.sql(\"select age, deposit_i_val as label, rawPrediction,prediction,probability from predict\")\n",
        "# Display the predicted values \n",
        "pred_val.show()\n",
        "# Predicting the output values \n",
        "pred = predictions.select(\"prediction\").collect()\n",
        "real = predictions.select(\"deposit_i_val\").collect()\n",
        "logreg_matrix = confusion_matrix(real, pred)\n",
        "logreg_matrix\n",
        "# Display the accuracy value \n",
        "acc_val  = logreg_matrix[0,0]+logreg_matrix[1,1]\n",
        "acc_val = acc_val/(logreg_matrix[0,0]+logreg_matrix[1,1] + logreg_matrix[1,0]+logreg_matrix[0,1])\n",
        "# Display the accuracy value \n",
        "print(\"Accuracy :\",acc_val)"
      ],
      "execution_count": null,
      "outputs": [
        {
          "output_type": "stream",
          "text": [
            "+---+-------------+-------------+----------+--------------------+\n",
            "|age|deposit_i_val|rawPrediction|prediction|         probability|\n",
            "+---+-------------+-------------+----------+--------------------+\n",
            "| 19|          0.0| [647.0,53.0]|       0.0|[0.92428571428571...|\n",
            "| 21|          0.0|[190.0,297.0]|       1.0|[0.39014373716632...|\n",
            "| 21|          1.0| [647.0,53.0]|       0.0|[0.92428571428571...|\n",
            "| 22|          0.0| [647.0,53.0]|       0.0|[0.92428571428571...|\n",
            "| 22|          0.0| [647.0,53.0]|       0.0|[0.92428571428571...|\n",
            "| 22|          0.0| [647.0,53.0]|       0.0|[0.92428571428571...|\n",
            "| 23|          1.0|[190.0,297.0]|       1.0|[0.39014373716632...|\n",
            "| 23|          0.0| [647.0,53.0]|       0.0|[0.92428571428571...|\n",
            "| 23|          0.0|[190.0,297.0]|       1.0|[0.39014373716632...|\n",
            "| 24|          0.0|[210.0,107.0]|       0.0|[0.66246056782334...|\n",
            "| 24|          0.0| [647.0,53.0]|       0.0|[0.92428571428571...|\n",
            "| 24|          0.0| [647.0,53.0]|       0.0|[0.92428571428571...|\n",
            "| 24|          0.0| [647.0,53.0]|       0.0|[0.92428571428571...|\n",
            "| 24|          0.0|[210.0,107.0]|       0.0|[0.66246056782334...|\n",
            "| 24|          0.0| [647.0,53.0]|       0.0|[0.92428571428571...|\n",
            "| 25|          0.0| [647.0,53.0]|       0.0|[0.92428571428571...|\n",
            "| 25|          0.0|[210.0,107.0]|       0.0|[0.66246056782334...|\n",
            "| 25|          0.0|[210.0,107.0]|       0.0|[0.66246056782334...|\n",
            "| 25|          1.0|[190.0,297.0]|       1.0|[0.39014373716632...|\n",
            "| 25|          0.0|[210.0,107.0]|       0.0|[0.66246056782334...|\n",
            "+---+-------------+-------------+----------+--------------------+\n",
            "only showing top 20 rows\n",
            "\n",
            "+---+-----+-------------+----------+--------------------+\n",
            "|age|label|rawPrediction|prediction|         probability|\n",
            "+---+-----+-------------+----------+--------------------+\n",
            "| 19|  0.0| [647.0,53.0]|       0.0|[0.92428571428571...|\n",
            "| 21|  0.0|[190.0,297.0]|       1.0|[0.39014373716632...|\n",
            "| 21|  1.0| [647.0,53.0]|       0.0|[0.92428571428571...|\n",
            "| 22|  0.0| [647.0,53.0]|       0.0|[0.92428571428571...|\n",
            "| 22|  0.0| [647.0,53.0]|       0.0|[0.92428571428571...|\n",
            "| 22|  0.0| [647.0,53.0]|       0.0|[0.92428571428571...|\n",
            "| 23|  1.0|[190.0,297.0]|       1.0|[0.39014373716632...|\n",
            "| 23|  0.0| [647.0,53.0]|       0.0|[0.92428571428571...|\n",
            "| 23|  0.0|[190.0,297.0]|       1.0|[0.39014373716632...|\n",
            "| 24|  0.0|[210.0,107.0]|       0.0|[0.66246056782334...|\n",
            "| 24|  0.0| [647.0,53.0]|       0.0|[0.92428571428571...|\n",
            "| 24|  0.0| [647.0,53.0]|       0.0|[0.92428571428571...|\n",
            "| 24|  0.0| [647.0,53.0]|       0.0|[0.92428571428571...|\n",
            "| 24|  0.0|[210.0,107.0]|       0.0|[0.66246056782334...|\n",
            "| 24|  0.0| [647.0,53.0]|       0.0|[0.92428571428571...|\n",
            "| 25|  0.0| [647.0,53.0]|       0.0|[0.92428571428571...|\n",
            "| 25|  0.0|[210.0,107.0]|       0.0|[0.66246056782334...|\n",
            "| 25|  0.0|[210.0,107.0]|       0.0|[0.66246056782334...|\n",
            "| 25|  1.0|[190.0,297.0]|       1.0|[0.39014373716632...|\n",
            "| 25|  0.0|[210.0,107.0]|       0.0|[0.66246056782334...|\n",
            "+---+-----+-------------+----------+--------------------+\n",
            "only showing top 20 rows\n",
            "\n",
            "Accuracy : 0.7447447447447447\n"
          ],
          "name": "stdout"
        }
      ]
    },
    {
      "cell_type": "markdown",
      "metadata": {
        "id": "CaE-Z_IlDKXF"
      },
      "source": [
        "## 5.3 NaiveBayes"
      ]
    },
    {
      "cell_type": "code",
      "metadata": {
        "id": "v2XL6I0t7irt",
        "colab": {
          "base_uri": "https://localhost:8080/",
          "height": 935
        },
        "outputId": "0c4b8a93-cf37-433f-a4ed-49d7354374c9"
      },
      "source": [
        "#NaiveBayes\n",
        "from pyspark.ml.classification import NaiveBayes\n",
        "nb = NaiveBayes(smoothing=1.0, labelCol = 'deposit_i_val', modelType=\"multinomial\")\n",
        "NB_model =  nb.fit(split[0])\n",
        "# Using spark.sql to display attributes \n",
        "predictions = NB_model.transform(split[1])\n",
        "predictions.select('age', 'deposit_i_val', 'rawPrediction', 'prediction', 'probability').show()\n",
        "predictions.createOrReplaceTempView('predict1')\n",
        "pred_val1 = spark.sql(\"select age, deposit_i_val as label, rawPrediction,prediction,probability from predict1\")\n",
        "pred_val1.show()\n",
        "# Predicting the output values \n",
        "pred = predictions.select(\"prediction\").collect()\n",
        "real = predictions.select(\"deposit_i_val\").collect()\n",
        "logreg_matrix = confusion_matrix(real, pred)\n",
        "logreg_matrix\n",
        "# Predicting the accuracy value\n",
        "acc1_rate  = logreg_matrix[0,0] + logreg_matrix[1,1]\n",
        "acc1_rate = acc1_rate/(logreg_matrix[0,0] + logreg_matrix[1,1] + logreg_matrix[1,0] + logreg_matrix[0,1])\n",
        "print(\"Accuracy :\",acc1_rate)\n",
        "# predicting ROC value\n",
        "evaluator = BinaryClassificationEvaluator()\n",
        "print('Test Area Under ROC', evaluator.evaluate(pred_val1))"
      ],
      "execution_count": null,
      "outputs": [
        {
          "output_type": "stream",
          "text": [
            "+---+-------------+--------------------+----------+--------------------+\n",
            "|age|deposit_i_val|       rawPrediction|prediction|         probability|\n",
            "+---+-------------+--------------------+----------+--------------------+\n",
            "| 19|          0.0|[-21.028955653831...|       0.0|[0.98954486687958...|\n",
            "| 21|          0.0|[-23.950888982060...|       1.0|[0.07878602052159...|\n",
            "| 21|          1.0|[-19.008540309748...|       0.0|[0.94195870303298...|\n",
            "| 22|          0.0|[-19.495195572586...|       0.0|[0.94613779308052...|\n",
            "| 22|          0.0|[-19.008540309748...|       0.0|[0.94195870303298...|\n",
            "| 22|          0.0|[-21.028955653831...|       0.0|[0.98954486687958...|\n",
            "| 23|          1.0|[-20.091414804126...|       1.0|[0.24711743860446...|\n",
            "| 23|          0.0|[-19.495195572586...|       0.0|[0.94613779308052...|\n",
            "| 23|          0.0|[-19.961175978305...|       1.0|[0.42741110341745...|\n",
            "| 24|          0.0|[-19.960309755846...|       0.0|[0.88260762408134...|\n",
            "| 24|          0.0|[-19.480380486801...|       0.0|[0.98914474155425...|\n",
            "| 24|          0.0|[-18.840247995708...|       0.0|[0.82026700400426...|\n",
            "| 24|          0.0|[-18.643642386628...|       0.0|[0.95752096429906...|\n",
            "| 24|          0.0|[-19.960309755846...|       0.0|[0.88260762408134...|\n",
            "| 24|          0.0|[-18.117633102491...|       0.0|[0.98282221612045...|\n",
            "| 25|          0.0|[-21.360881013785...|       0.0|[0.87254204005644...|\n",
            "| 25|          0.0|[-19.960309755846...|       0.0|[0.88260762408134...|\n",
            "| 25|          0.0|[-18.597562371536...|       0.0|[0.82519938316772...|\n",
            "| 25|          1.0|[-19.961175978305...|       1.0|[0.42741110341745...|\n",
            "| 25|          0.0|[-19.358230752972...|       0.0|[0.75279932991962...|\n",
            "+---+-------------+--------------------+----------+--------------------+\n",
            "only showing top 20 rows\n",
            "\n",
            "+---+-----+--------------------+----------+--------------------+\n",
            "|age|label|       rawPrediction|prediction|         probability|\n",
            "+---+-----+--------------------+----------+--------------------+\n",
            "| 19|  0.0|[-21.028955653831...|       0.0|[0.98954486687958...|\n",
            "| 21|  0.0|[-23.950888982060...|       1.0|[0.07878602052159...|\n",
            "| 21|  1.0|[-19.008540309748...|       0.0|[0.94195870303298...|\n",
            "| 22|  0.0|[-19.495195572586...|       0.0|[0.94613779308052...|\n",
            "| 22|  0.0|[-19.008540309748...|       0.0|[0.94195870303298...|\n",
            "| 22|  0.0|[-21.028955653831...|       0.0|[0.98954486687958...|\n",
            "| 23|  1.0|[-20.091414804126...|       1.0|[0.24711743860446...|\n",
            "| 23|  0.0|[-19.495195572586...|       0.0|[0.94613779308052...|\n",
            "| 23|  0.0|[-19.961175978305...|       1.0|[0.42741110341745...|\n",
            "| 24|  0.0|[-19.960309755846...|       0.0|[0.88260762408134...|\n",
            "| 24|  0.0|[-19.480380486801...|       0.0|[0.98914474155425...|\n",
            "| 24|  0.0|[-18.840247995708...|       0.0|[0.82026700400426...|\n",
            "| 24|  0.0|[-18.643642386628...|       0.0|[0.95752096429906...|\n",
            "| 24|  0.0|[-19.960309755846...|       0.0|[0.88260762408134...|\n",
            "| 24|  0.0|[-18.117633102491...|       0.0|[0.98282221612045...|\n",
            "| 25|  0.0|[-21.360881013785...|       0.0|[0.87254204005644...|\n",
            "| 25|  0.0|[-19.960309755846...|       0.0|[0.88260762408134...|\n",
            "| 25|  0.0|[-18.597562371536...|       0.0|[0.82519938316772...|\n",
            "| 25|  1.0|[-19.961175978305...|       1.0|[0.42741110341745...|\n",
            "| 25|  0.0|[-19.358230752972...|       0.0|[0.75279932991962...|\n",
            "+---+-----+--------------------+----------+--------------------+\n",
            "only showing top 20 rows\n",
            "\n",
            "Accuracy : 0.7507507507507507\n",
            "Test Area Under ROC 0.7289743721961535\n"
          ],
          "name": "stdout"
        }
      ]
    }
  ]
}